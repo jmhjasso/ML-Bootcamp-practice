{
  "nbformat": 4,
  "nbformat_minor": 0,
  "metadata": {
    "colab": {
      "provenance": [],
      "include_colab_link": true
    },
    "kernelspec": {
      "name": "python3",
      "display_name": "Python 3"
    },
    "language_info": {
      "name": "python"
    }
  },
  "cells": [
    {
      "cell_type": "markdown",
      "metadata": {
        "id": "view-in-github",
        "colab_type": "text"
      },
      "source": [
        "<a href=\"https://colab.research.google.com/github/jmhjasso/ML-Bootcamp-practice/blob/main/TX_Schools_Regression_ML_Modeling_Oct_3.ipynb\" target=\"_parent\"><img src=\"https://colab.research.google.com/assets/colab-badge.svg\" alt=\"Open In Colab\"/></a>"
      ]
    },
    {
      "cell_type": "code",
      "source": [
        "# Assigning the data url\n",
        "data_url = 'https://raw.githubusercontent.com/nvamsimohan/DallasDSA/main/2021%20Texas%20High%20Schools%20Scores.csv'\n",
        "data_url"
      ],
      "metadata": {
        "id": "7RiocRLmKwnw"
      },
      "execution_count": null,
      "outputs": []
    },
    {
      "cell_type": "code",
      "source": [
        "# Importing pandas package for data processing\n",
        "import pandas"
      ],
      "metadata": {
        "id": "THfW2ZhTLYXG"
      },
      "execution_count": null,
      "outputs": []
    },
    {
      "cell_type": "code",
      "source": [
        "# Reading the data from the web URL\n",
        "data = pandas.read_csv(data_url)\n",
        "\n",
        "# Displaying the data\n",
        "data"
      ],
      "metadata": {
        "id": "nrje9WjmNaV9"
      },
      "execution_count": null,
      "outputs": []
    },
    {
      "cell_type": "code",
      "source": [
        "# Displaying the dataset size/shape\n",
        "data.shape"
      ],
      "metadata": {
        "id": "lQ86vue4SAC6"
      },
      "execution_count": null,
      "outputs": []
    },
    {
      "cell_type": "code",
      "source": [
        "# Displaying the column names\n",
        "data.columns"
      ],
      "metadata": {
        "id": "yf8no1IdTEfK"
      },
      "execution_count": null,
      "outputs": []
    },
    {
      "cell_type": "code",
      "source": [
        "# ML Code snippet 1\n",
        "# Setting the noise/redundant/missing data variables\n",
        "ignored_cols  = ['School', 'School URL', 'District URL', 'City URL',\n",
        "       'Phone','Home Prices Ranking', 'Community Health Ranking']"
      ],
      "metadata": {
        "id": "1mMQhYqtxVX1"
      },
      "execution_count": null,
      "outputs": []
    },
    {
      "cell_type": "code",
      "source": [
        "# ML Code snippet 2\n",
        "# Setting categorical cols\n",
        "cat_cols = ['District',  'City',\n",
        "       'Zip', 'County', 'Is Title I', 'Is Charter', 'Is Magnet',\n",
        "       'Is Virtual']"
      ],
      "metadata": {
        "id": "b788Z083yXtz"
      },
      "execution_count": null,
      "outputs": []
    },
    {
      "cell_type": "code",
      "source": [
        "# ML Code snippet 3\n",
        "# Setting the numerical cols\n",
        "num_cols = ['Number Students', 'Number Full-time Teachers',\n",
        "       'Student/Teacher Ratio', 'Percent Free/Disc Lunch',\n",
        "       'Percent Homes Rented', 'Percent of Unemployment',\n",
        "       'Percent Parents with Masters and above education',\n",
        "       'Percent parents with less than High School education',\n",
        "       'Percent Home Incomes with less than Median income']"
      ],
      "metadata": {
        "id": "vXe9b42_y42N"
      },
      "execution_count": null,
      "outputs": []
    },
    {
      "cell_type": "code",
      "source": [
        "# ML Code Snippet 4\n",
        "# Setting the dependent/target/label variable\n",
        "y = 'Standard Score'"
      ],
      "metadata": {
        "id": "GTMHOTGezeuk"
      },
      "execution_count": null,
      "outputs": []
    },
    {
      "cell_type": "code",
      "source": [
        "# ML Code snippet 5\n",
        "# Installing Pycaret for Automated ML\n",
        "!pip install -U --pre pycaret"
      ],
      "metadata": {
        "id": "kJB6UiF52Pz8"
      },
      "execution_count": null,
      "outputs": []
    },
    {
      "cell_type": "code",
      "source": [
        "# ML Code snippet 6\n",
        "# Importing Pycaret and setting/configuring the ML experiment\n",
        "from pycaret.regression import *\n",
        "\n",
        "regression_model_setup = setup(data,\n",
        "      target = y,\n",
        "      categorical_features = cat_cols,\n",
        "      numeric_features = num_cols,\n",
        "      ignore_features = ignored_cols, train_size = 0.8)"
      ],
      "metadata": {
        "id": "-0JQijiR3dZ4"
      },
      "execution_count": null,
      "outputs": []
    },
    {
      "cell_type": "code",
      "source": [
        "# ML Code snippet 7\n",
        "# Invoking ML algorithms\n",
        "compare_models()"
      ],
      "metadata": {
        "id": "5i6TpAZ3483K"
      },
      "execution_count": null,
      "outputs": []
    },
    {
      "cell_type": "code",
      "source": [
        "# ML Code snippet 8\n",
        "# Building the model using the best ML algorithm\n",
        "model = create_model('knn')"
      ],
      "metadata": {
        "id": "zf5jvw4-Jvz_"
      },
      "execution_count": null,
      "outputs": []
    },
    {
      "cell_type": "code",
      "source": [
        "# ML Code snippet 9\n",
        "# Importing the client dataset\n",
        "client_data = pandas.read_csv('https://raw.githubusercontent.com/nvamsimohan/DallasDSA/main/TX%20High%20Schools%20-%20Client%20Data.csv')\n",
        "client_data.shape"
      ],
      "metadata": {
        "id": "ePxfcvFaLcVo"
      },
      "execution_count": null,
      "outputs": []
    },
    {
      "cell_type": "code",
      "source": [
        "# ML Code snippet 10\n",
        "# Predicting standard scores using the best model\n",
        "client_data_predictions = predict_model(model,client_data )"
      ],
      "metadata": {
        "id": "G3vqshsiLtzp"
      },
      "execution_count": null,
      "outputs": []
    },
    {
      "cell_type": "code",
      "source": [
        "# ML Code Snippet 11\n",
        "# Displaying the predictions\n",
        "client_data_predictions"
      ],
      "metadata": {
        "id": "PqNqixAzMdi-"
      },
      "execution_count": null,
      "outputs": []
    },
    {
      "cell_type": "code",
      "source": [
        "# ML Code snippet 12\n",
        "# Converting client data pandas dataframe to a csv file\n",
        "client_data_predictions.to_csv(\"TX Schools - K Nearest Regressor Algo - Oct 3 2023.csv\")"
      ],
      "metadata": {
        "id": "-riBCq1IOUzC"
      },
      "execution_count": null,
      "outputs": []
    }
  ]
}