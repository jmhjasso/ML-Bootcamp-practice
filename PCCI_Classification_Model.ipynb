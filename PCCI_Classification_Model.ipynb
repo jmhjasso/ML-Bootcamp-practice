{
  "nbformat": 4,
  "nbformat_minor": 0,
  "metadata": {
    "colab": {
      "provenance": [],
      "include_colab_link": true
    },
    "kernelspec": {
      "name": "python3",
      "display_name": "Python 3"
    },
    "language_info": {
      "name": "python"
    },
    "widgets": {
      "application/vnd.jupyter.widget-state+json": {
        "194edd7c17c6480f999aa5aa26731f3f": {
          "model_module": "@jupyter-widgets/controls",
          "model_name": "HBoxModel",
          "model_module_version": "1.5.0",
          "state": {
            "_dom_classes": [],
            "_model_module": "@jupyter-widgets/controls",
            "_model_module_version": "1.5.0",
            "_model_name": "HBoxModel",
            "_view_count": null,
            "_view_module": "@jupyter-widgets/controls",
            "_view_module_version": "1.5.0",
            "_view_name": "HBoxView",
            "box_style": "",
            "children": [
              "IPY_MODEL_a9447b52a1c64de19da74b1c74929a88",
              "IPY_MODEL_5b8b474fa3ad42cebf04c22a339a65dd",
              "IPY_MODEL_af1d8990666e44a5b970dd1750df858d"
            ],
            "layout": "IPY_MODEL_8fc609766c96454f90095291b0a69d1a"
          }
        },
        "a9447b52a1c64de19da74b1c74929a88": {
          "model_module": "@jupyter-widgets/controls",
          "model_name": "HTMLModel",
          "model_module_version": "1.5.0",
          "state": {
            "_dom_classes": [],
            "_model_module": "@jupyter-widgets/controls",
            "_model_module_version": "1.5.0",
            "_model_name": "HTMLModel",
            "_view_count": null,
            "_view_module": "@jupyter-widgets/controls",
            "_view_module_version": "1.5.0",
            "_view_name": "HTMLView",
            "description": "",
            "description_tooltip": null,
            "layout": "IPY_MODEL_36b6e8c281ec4a6ea76c7ffe2caaeea8",
            "placeholder": "​",
            "style": "IPY_MODEL_c371e4a7b9394ec78ae09c0bed9bf3ee",
            "value": "Processing: 100%"
          }
        },
        "5b8b474fa3ad42cebf04c22a339a65dd": {
          "model_module": "@jupyter-widgets/controls",
          "model_name": "FloatProgressModel",
          "model_module_version": "1.5.0",
          "state": {
            "_dom_classes": [],
            "_model_module": "@jupyter-widgets/controls",
            "_model_module_version": "1.5.0",
            "_model_name": "FloatProgressModel",
            "_view_count": null,
            "_view_module": "@jupyter-widgets/controls",
            "_view_module_version": "1.5.0",
            "_view_name": "ProgressView",
            "bar_style": "",
            "description": "",
            "description_tooltip": null,
            "layout": "IPY_MODEL_42bbb2bde11d468dae7dbefe133bc2a1",
            "max": 65,
            "min": 0,
            "orientation": "horizontal",
            "style": "IPY_MODEL_15e5ae1985854cf4b372a488c890e142",
            "value": 65
          }
        },
        "af1d8990666e44a5b970dd1750df858d": {
          "model_module": "@jupyter-widgets/controls",
          "model_name": "HTMLModel",
          "model_module_version": "1.5.0",
          "state": {
            "_dom_classes": [],
            "_model_module": "@jupyter-widgets/controls",
            "_model_module_version": "1.5.0",
            "_model_name": "HTMLModel",
            "_view_count": null,
            "_view_module": "@jupyter-widgets/controls",
            "_view_module_version": "1.5.0",
            "_view_name": "HTMLView",
            "description": "",
            "description_tooltip": null,
            "layout": "IPY_MODEL_4e931b2e6dde438d8e72967e63723258",
            "placeholder": "​",
            "style": "IPY_MODEL_3534caf870234125bd6254d45e86e55b",
            "value": " 65/65 [02:41&lt;00:00,  1.50s/it]"
          }
        },
        "8fc609766c96454f90095291b0a69d1a": {
          "model_module": "@jupyter-widgets/base",
          "model_name": "LayoutModel",
          "model_module_version": "1.2.0",
          "state": {
            "_model_module": "@jupyter-widgets/base",
            "_model_module_version": "1.2.0",
            "_model_name": "LayoutModel",
            "_view_count": null,
            "_view_module": "@jupyter-widgets/base",
            "_view_module_version": "1.2.0",
            "_view_name": "LayoutView",
            "align_content": null,
            "align_items": null,
            "align_self": null,
            "border": null,
            "bottom": null,
            "display": null,
            "flex": null,
            "flex_flow": null,
            "grid_area": null,
            "grid_auto_columns": null,
            "grid_auto_flow": null,
            "grid_auto_rows": null,
            "grid_column": null,
            "grid_gap": null,
            "grid_row": null,
            "grid_template_areas": null,
            "grid_template_columns": null,
            "grid_template_rows": null,
            "height": null,
            "justify_content": null,
            "justify_items": null,
            "left": null,
            "margin": null,
            "max_height": null,
            "max_width": null,
            "min_height": null,
            "min_width": null,
            "object_fit": null,
            "object_position": null,
            "order": null,
            "overflow": null,
            "overflow_x": null,
            "overflow_y": null,
            "padding": null,
            "right": null,
            "top": null,
            "visibility": "hidden",
            "width": null
          }
        },
        "36b6e8c281ec4a6ea76c7ffe2caaeea8": {
          "model_module": "@jupyter-widgets/base",
          "model_name": "LayoutModel",
          "model_module_version": "1.2.0",
          "state": {
            "_model_module": "@jupyter-widgets/base",
            "_model_module_version": "1.2.0",
            "_model_name": "LayoutModel",
            "_view_count": null,
            "_view_module": "@jupyter-widgets/base",
            "_view_module_version": "1.2.0",
            "_view_name": "LayoutView",
            "align_content": null,
            "align_items": null,
            "align_self": null,
            "border": null,
            "bottom": null,
            "display": null,
            "flex": null,
            "flex_flow": null,
            "grid_area": null,
            "grid_auto_columns": null,
            "grid_auto_flow": null,
            "grid_auto_rows": null,
            "grid_column": null,
            "grid_gap": null,
            "grid_row": null,
            "grid_template_areas": null,
            "grid_template_columns": null,
            "grid_template_rows": null,
            "height": null,
            "justify_content": null,
            "justify_items": null,
            "left": null,
            "margin": null,
            "max_height": null,
            "max_width": null,
            "min_height": null,
            "min_width": null,
            "object_fit": null,
            "object_position": null,
            "order": null,
            "overflow": null,
            "overflow_x": null,
            "overflow_y": null,
            "padding": null,
            "right": null,
            "top": null,
            "visibility": null,
            "width": null
          }
        },
        "c371e4a7b9394ec78ae09c0bed9bf3ee": {
          "model_module": "@jupyter-widgets/controls",
          "model_name": "DescriptionStyleModel",
          "model_module_version": "1.5.0",
          "state": {
            "_model_module": "@jupyter-widgets/controls",
            "_model_module_version": "1.5.0",
            "_model_name": "DescriptionStyleModel",
            "_view_count": null,
            "_view_module": "@jupyter-widgets/base",
            "_view_module_version": "1.2.0",
            "_view_name": "StyleView",
            "description_width": ""
          }
        },
        "42bbb2bde11d468dae7dbefe133bc2a1": {
          "model_module": "@jupyter-widgets/base",
          "model_name": "LayoutModel",
          "model_module_version": "1.2.0",
          "state": {
            "_model_module": "@jupyter-widgets/base",
            "_model_module_version": "1.2.0",
            "_model_name": "LayoutModel",
            "_view_count": null,
            "_view_module": "@jupyter-widgets/base",
            "_view_module_version": "1.2.0",
            "_view_name": "LayoutView",
            "align_content": null,
            "align_items": null,
            "align_self": null,
            "border": null,
            "bottom": null,
            "display": null,
            "flex": null,
            "flex_flow": null,
            "grid_area": null,
            "grid_auto_columns": null,
            "grid_auto_flow": null,
            "grid_auto_rows": null,
            "grid_column": null,
            "grid_gap": null,
            "grid_row": null,
            "grid_template_areas": null,
            "grid_template_columns": null,
            "grid_template_rows": null,
            "height": null,
            "justify_content": null,
            "justify_items": null,
            "left": null,
            "margin": null,
            "max_height": null,
            "max_width": null,
            "min_height": null,
            "min_width": null,
            "object_fit": null,
            "object_position": null,
            "order": null,
            "overflow": null,
            "overflow_x": null,
            "overflow_y": null,
            "padding": null,
            "right": null,
            "top": null,
            "visibility": null,
            "width": null
          }
        },
        "15e5ae1985854cf4b372a488c890e142": {
          "model_module": "@jupyter-widgets/controls",
          "model_name": "ProgressStyleModel",
          "model_module_version": "1.5.0",
          "state": {
            "_model_module": "@jupyter-widgets/controls",
            "_model_module_version": "1.5.0",
            "_model_name": "ProgressStyleModel",
            "_view_count": null,
            "_view_module": "@jupyter-widgets/base",
            "_view_module_version": "1.2.0",
            "_view_name": "StyleView",
            "bar_color": null,
            "description_width": ""
          }
        },
        "4e931b2e6dde438d8e72967e63723258": {
          "model_module": "@jupyter-widgets/base",
          "model_name": "LayoutModel",
          "model_module_version": "1.2.0",
          "state": {
            "_model_module": "@jupyter-widgets/base",
            "_model_module_version": "1.2.0",
            "_model_name": "LayoutModel",
            "_view_count": null,
            "_view_module": "@jupyter-widgets/base",
            "_view_module_version": "1.2.0",
            "_view_name": "LayoutView",
            "align_content": null,
            "align_items": null,
            "align_self": null,
            "border": null,
            "bottom": null,
            "display": null,
            "flex": null,
            "flex_flow": null,
            "grid_area": null,
            "grid_auto_columns": null,
            "grid_auto_flow": null,
            "grid_auto_rows": null,
            "grid_column": null,
            "grid_gap": null,
            "grid_row": null,
            "grid_template_areas": null,
            "grid_template_columns": null,
            "grid_template_rows": null,
            "height": null,
            "justify_content": null,
            "justify_items": null,
            "left": null,
            "margin": null,
            "max_height": null,
            "max_width": null,
            "min_height": null,
            "min_width": null,
            "object_fit": null,
            "object_position": null,
            "order": null,
            "overflow": null,
            "overflow_x": null,
            "overflow_y": null,
            "padding": null,
            "right": null,
            "top": null,
            "visibility": null,
            "width": null
          }
        },
        "3534caf870234125bd6254d45e86e55b": {
          "model_module": "@jupyter-widgets/controls",
          "model_name": "DescriptionStyleModel",
          "model_module_version": "1.5.0",
          "state": {
            "_model_module": "@jupyter-widgets/controls",
            "_model_module_version": "1.5.0",
            "_model_name": "DescriptionStyleModel",
            "_view_count": null,
            "_view_module": "@jupyter-widgets/base",
            "_view_module_version": "1.2.0",
            "_view_name": "StyleView",
            "description_width": ""
          }
        }
      }
    }
  },
  "cells": [
    {
      "cell_type": "markdown",
      "metadata": {
        "id": "view-in-github",
        "colab_type": "text"
      },
      "source": [
        "<a href=\"https://colab.research.google.com/github/jmhjasso/ML-Bootcamp-practice/blob/main/PCCI_Classification_Model.ipynb\" target=\"_parent\"><img src=\"https://colab.research.google.com/assets/colab-badge.svg\" alt=\"Open In Colab\"/></a>"
      ]
    },
    {
      "cell_type": "code",
      "execution_count": null,
      "metadata": {
        "colab": {
          "base_uri": "https://localhost:8080/"
        },
        "id": "SVHLifDHUqBs",
        "outputId": "dc71c1ce-f17e-49b5-9120-797a48efa1b5"
      },
      "outputs": [
        {
          "output_type": "execute_result",
          "data": {
            "text/plain": [
              "(12980, 29)"
            ]
          },
          "metadata": {},
          "execution_count": 1
        }
      ],
      "source": [
        "# Code snippet 1\n",
        "# Importing the dataset\n",
        "import pandas\n",
        "data = pandas.read_csv('https://raw.githubusercontent.com/nvamsimohan/DallasDSA/main/PCCI%20Cases%20Readmit30%20Data.csv')\n",
        "data.shape"
      ]
    },
    {
      "cell_type": "code",
      "source": [
        "# Code snippet 2\n",
        "# Display the columns\n",
        "data.columns"
      ],
      "metadata": {
        "colab": {
          "base_uri": "https://localhost:8080/"
        },
        "id": "EWijYmhMU3Nk",
        "outputId": "81aa8acf-d2c3-4312-d4f4-d9afa85d85d1"
      },
      "execution_count": null,
      "outputs": [
        {
          "output_type": "execute_result",
          "data": {
            "text/plain": [
              "Index(['Admit_Week', 'Admit_Month', 'Gender', 'Marital_Status',\n",
              "       'Insurance_Provider', 'Tobacco_User', 'Depression', 'ICU', 'Drug_Abuse',\n",
              "       'Mood_Disorder', 'Diabetes', 'Anxiety', 'Obesity', 'Dementia', 'Age',\n",
              "       'Bmi', 'Weight', 'Height', 'Pulse', 'Temperature', 'Pat_Pain_Score',\n",
              "       'ER_Visits', 'IP_Visits', 'Chronic_Conditions', 'Glucose', 'Condition',\n",
              "       'Care_Plan_Following_Discharge', 'Cost_Of_Initial_Stay', 'Readmit30'],\n",
              "      dtype='object')"
            ]
          },
          "metadata": {},
          "execution_count": 2
        }
      ]
    },
    {
      "cell_type": "code",
      "source": [
        "# Code snippet 3\n",
        "# Setting the noise/redundant/missing data variables\n",
        "ignored_cols = ['Weight', 'Height']"
      ],
      "metadata": {
        "id": "pkDx1ftdVV5k"
      },
      "execution_count": null,
      "outputs": []
    },
    {
      "cell_type": "code",
      "source": [
        "# Code snippet 4\n",
        "# Setting the target variable\n",
        "y = 'Readmit30'"
      ],
      "metadata": {
        "id": "qy3Bhs30W6-L"
      },
      "execution_count": null,
      "outputs": []
    },
    {
      "cell_type": "code",
      "source": [
        "# Code snippet 5\n",
        "# Setting numerical variables\n",
        "num_cols = ['Age', 'Bmi', 'Pulse', 'Temperature', 'Pat_Pain_Score',\n",
        "       'ER_Visits', 'IP_Visits', 'Chronic_Conditions', 'Glucose', 'Cost_Of_Initial_Stay']"
      ],
      "metadata": {
        "id": "oIYCt39WXDrw"
      },
      "execution_count": null,
      "outputs": []
    },
    {
      "cell_type": "code",
      "source": [
        "# Code snippet 6\n",
        "# Setting categorical variables\n",
        "cat_cols = ['Admit_Week', 'Admit_Month', 'Gender', 'Marital_Status',\n",
        "       'Insurance_Provider', 'Tobacco_User', 'Depression', 'ICU', 'Drug_Abuse',\n",
        "       'Mood_Disorder', 'Diabetes', 'Anxiety', 'Obesity', 'Dementia',\n",
        "            'Condition', 'Care_Plan_Following_Discharge']"
      ],
      "metadata": {
        "id": "SSFRHvUhXZ3q"
      },
      "execution_count": null,
      "outputs": []
    },
    {
      "cell_type": "code",
      "source": [
        "# Code snippet 7\n",
        "# Installing pycaret\n",
        "!pip install -U --pre pycaret"
      ],
      "metadata": {
        "id": "pijfGICaYChQ"
      },
      "execution_count": null,
      "outputs": []
    },
    {
      "cell_type": "code",
      "source": [
        "# Code snippet 8\n",
        "# Importing the pycaret and setting the experiment\n",
        "from pycaret.classification import *\n",
        "\n",
        "classification_model_setup = setup(data,\n",
        "                                   target  = y,\n",
        "                                   ignore_features=ignored_cols,\n",
        "                                   numeric_features=num_cols,\n",
        "                                   categorical_features=cat_cols,\n",
        "                                   train_size = 0.7)"
      ],
      "metadata": {
        "colab": {
          "base_uri": "https://localhost:8080/",
          "height": 833
        },
        "id": "-0Y-IYLJYYTl",
        "outputId": "690faa08-7201-44c5-fba0-25f8a7d17c41"
      },
      "execution_count": null,
      "outputs": [
        {
          "output_type": "display_data",
          "data": {
            "text/plain": [
              "<pandas.io.formats.style.Styler at 0x7bb8dcf5fe20>"
            ],
            "text/html": [
              "<style type=\"text/css\">\n",
              "#T_e9bf3_row12_col1 {\n",
              "  background-color: lightgreen;\n",
              "}\n",
              "</style>\n",
              "<table id=\"T_e9bf3\" class=\"dataframe\">\n",
              "  <thead>\n",
              "    <tr>\n",
              "      <th class=\"blank level0\" >&nbsp;</th>\n",
              "      <th id=\"T_e9bf3_level0_col0\" class=\"col_heading level0 col0\" >Description</th>\n",
              "      <th id=\"T_e9bf3_level0_col1\" class=\"col_heading level0 col1\" >Value</th>\n",
              "    </tr>\n",
              "  </thead>\n",
              "  <tbody>\n",
              "    <tr>\n",
              "      <th id=\"T_e9bf3_level0_row0\" class=\"row_heading level0 row0\" >0</th>\n",
              "      <td id=\"T_e9bf3_row0_col0\" class=\"data row0 col0\" >Session id</td>\n",
              "      <td id=\"T_e9bf3_row0_col1\" class=\"data row0 col1\" >6597</td>\n",
              "    </tr>\n",
              "    <tr>\n",
              "      <th id=\"T_e9bf3_level0_row1\" class=\"row_heading level0 row1\" >1</th>\n",
              "      <td id=\"T_e9bf3_row1_col0\" class=\"data row1 col0\" >Target</td>\n",
              "      <td id=\"T_e9bf3_row1_col1\" class=\"data row1 col1\" >Readmit30</td>\n",
              "    </tr>\n",
              "    <tr>\n",
              "      <th id=\"T_e9bf3_level0_row2\" class=\"row_heading level0 row2\" >2</th>\n",
              "      <td id=\"T_e9bf3_row2_col0\" class=\"data row2 col0\" >Target type</td>\n",
              "      <td id=\"T_e9bf3_row2_col1\" class=\"data row2 col1\" >Binary</td>\n",
              "    </tr>\n",
              "    <tr>\n",
              "      <th id=\"T_e9bf3_level0_row3\" class=\"row_heading level0 row3\" >3</th>\n",
              "      <td id=\"T_e9bf3_row3_col0\" class=\"data row3 col0\" >Original data shape</td>\n",
              "      <td id=\"T_e9bf3_row3_col1\" class=\"data row3 col1\" >(12980, 29)</td>\n",
              "    </tr>\n",
              "    <tr>\n",
              "      <th id=\"T_e9bf3_level0_row4\" class=\"row_heading level0 row4\" >4</th>\n",
              "      <td id=\"T_e9bf3_row4_col0\" class=\"data row4 col0\" >Transformed data shape</td>\n",
              "      <td id=\"T_e9bf3_row4_col1\" class=\"data row4 col1\" >(12980, 55)</td>\n",
              "    </tr>\n",
              "    <tr>\n",
              "      <th id=\"T_e9bf3_level0_row5\" class=\"row_heading level0 row5\" >5</th>\n",
              "      <td id=\"T_e9bf3_row5_col0\" class=\"data row5 col0\" >Transformed train set shape</td>\n",
              "      <td id=\"T_e9bf3_row5_col1\" class=\"data row5 col1\" >(9086, 55)</td>\n",
              "    </tr>\n",
              "    <tr>\n",
              "      <th id=\"T_e9bf3_level0_row6\" class=\"row_heading level0 row6\" >6</th>\n",
              "      <td id=\"T_e9bf3_row6_col0\" class=\"data row6 col0\" >Transformed test set shape</td>\n",
              "      <td id=\"T_e9bf3_row6_col1\" class=\"data row6 col1\" >(3894, 55)</td>\n",
              "    </tr>\n",
              "    <tr>\n",
              "      <th id=\"T_e9bf3_level0_row7\" class=\"row_heading level0 row7\" >7</th>\n",
              "      <td id=\"T_e9bf3_row7_col0\" class=\"data row7 col0\" >Ignore features</td>\n",
              "      <td id=\"T_e9bf3_row7_col1\" class=\"data row7 col1\" >2</td>\n",
              "    </tr>\n",
              "    <tr>\n",
              "      <th id=\"T_e9bf3_level0_row8\" class=\"row_heading level0 row8\" >8</th>\n",
              "      <td id=\"T_e9bf3_row8_col0\" class=\"data row8 col0\" >Ordinal features</td>\n",
              "      <td id=\"T_e9bf3_row8_col1\" class=\"data row8 col1\" >11</td>\n",
              "    </tr>\n",
              "    <tr>\n",
              "      <th id=\"T_e9bf3_level0_row9\" class=\"row_heading level0 row9\" >9</th>\n",
              "      <td id=\"T_e9bf3_row9_col0\" class=\"data row9 col0\" >Numeric features</td>\n",
              "      <td id=\"T_e9bf3_row9_col1\" class=\"data row9 col1\" >10</td>\n",
              "    </tr>\n",
              "    <tr>\n",
              "      <th id=\"T_e9bf3_level0_row10\" class=\"row_heading level0 row10\" >10</th>\n",
              "      <td id=\"T_e9bf3_row10_col0\" class=\"data row10 col0\" >Categorical features</td>\n",
              "      <td id=\"T_e9bf3_row10_col1\" class=\"data row10 col1\" >16</td>\n",
              "    </tr>\n",
              "    <tr>\n",
              "      <th id=\"T_e9bf3_level0_row11\" class=\"row_heading level0 row11\" >11</th>\n",
              "      <td id=\"T_e9bf3_row11_col0\" class=\"data row11 col0\" >Rows with missing values</td>\n",
              "      <td id=\"T_e9bf3_row11_col1\" class=\"data row11 col1\" >22.3%</td>\n",
              "    </tr>\n",
              "    <tr>\n",
              "      <th id=\"T_e9bf3_level0_row12\" class=\"row_heading level0 row12\" >12</th>\n",
              "      <td id=\"T_e9bf3_row12_col0\" class=\"data row12 col0\" >Preprocess</td>\n",
              "      <td id=\"T_e9bf3_row12_col1\" class=\"data row12 col1\" >True</td>\n",
              "    </tr>\n",
              "    <tr>\n",
              "      <th id=\"T_e9bf3_level0_row13\" class=\"row_heading level0 row13\" >13</th>\n",
              "      <td id=\"T_e9bf3_row13_col0\" class=\"data row13 col0\" >Imputation type</td>\n",
              "      <td id=\"T_e9bf3_row13_col1\" class=\"data row13 col1\" >simple</td>\n",
              "    </tr>\n",
              "    <tr>\n",
              "      <th id=\"T_e9bf3_level0_row14\" class=\"row_heading level0 row14\" >14</th>\n",
              "      <td id=\"T_e9bf3_row14_col0\" class=\"data row14 col0\" >Numeric imputation</td>\n",
              "      <td id=\"T_e9bf3_row14_col1\" class=\"data row14 col1\" >mean</td>\n",
              "    </tr>\n",
              "    <tr>\n",
              "      <th id=\"T_e9bf3_level0_row15\" class=\"row_heading level0 row15\" >15</th>\n",
              "      <td id=\"T_e9bf3_row15_col0\" class=\"data row15 col0\" >Categorical imputation</td>\n",
              "      <td id=\"T_e9bf3_row15_col1\" class=\"data row15 col1\" >mode</td>\n",
              "    </tr>\n",
              "    <tr>\n",
              "      <th id=\"T_e9bf3_level0_row16\" class=\"row_heading level0 row16\" >16</th>\n",
              "      <td id=\"T_e9bf3_row16_col0\" class=\"data row16 col0\" >Maximum one-hot encoding</td>\n",
              "      <td id=\"T_e9bf3_row16_col1\" class=\"data row16 col1\" >25</td>\n",
              "    </tr>\n",
              "    <tr>\n",
              "      <th id=\"T_e9bf3_level0_row17\" class=\"row_heading level0 row17\" >17</th>\n",
              "      <td id=\"T_e9bf3_row17_col0\" class=\"data row17 col0\" >Encoding method</td>\n",
              "      <td id=\"T_e9bf3_row17_col1\" class=\"data row17 col1\" >None</td>\n",
              "    </tr>\n",
              "    <tr>\n",
              "      <th id=\"T_e9bf3_level0_row18\" class=\"row_heading level0 row18\" >18</th>\n",
              "      <td id=\"T_e9bf3_row18_col0\" class=\"data row18 col0\" >Fold Generator</td>\n",
              "      <td id=\"T_e9bf3_row18_col1\" class=\"data row18 col1\" >StratifiedKFold</td>\n",
              "    </tr>\n",
              "    <tr>\n",
              "      <th id=\"T_e9bf3_level0_row19\" class=\"row_heading level0 row19\" >19</th>\n",
              "      <td id=\"T_e9bf3_row19_col0\" class=\"data row19 col0\" >Fold Number</td>\n",
              "      <td id=\"T_e9bf3_row19_col1\" class=\"data row19 col1\" >10</td>\n",
              "    </tr>\n",
              "    <tr>\n",
              "      <th id=\"T_e9bf3_level0_row20\" class=\"row_heading level0 row20\" >20</th>\n",
              "      <td id=\"T_e9bf3_row20_col0\" class=\"data row20 col0\" >CPU Jobs</td>\n",
              "      <td id=\"T_e9bf3_row20_col1\" class=\"data row20 col1\" >-1</td>\n",
              "    </tr>\n",
              "    <tr>\n",
              "      <th id=\"T_e9bf3_level0_row21\" class=\"row_heading level0 row21\" >21</th>\n",
              "      <td id=\"T_e9bf3_row21_col0\" class=\"data row21 col0\" >Use GPU</td>\n",
              "      <td id=\"T_e9bf3_row21_col1\" class=\"data row21 col1\" >False</td>\n",
              "    </tr>\n",
              "    <tr>\n",
              "      <th id=\"T_e9bf3_level0_row22\" class=\"row_heading level0 row22\" >22</th>\n",
              "      <td id=\"T_e9bf3_row22_col0\" class=\"data row22 col0\" >Log Experiment</td>\n",
              "      <td id=\"T_e9bf3_row22_col1\" class=\"data row22 col1\" >False</td>\n",
              "    </tr>\n",
              "    <tr>\n",
              "      <th id=\"T_e9bf3_level0_row23\" class=\"row_heading level0 row23\" >23</th>\n",
              "      <td id=\"T_e9bf3_row23_col0\" class=\"data row23 col0\" >Experiment Name</td>\n",
              "      <td id=\"T_e9bf3_row23_col1\" class=\"data row23 col1\" >clf-default-name</td>\n",
              "    </tr>\n",
              "    <tr>\n",
              "      <th id=\"T_e9bf3_level0_row24\" class=\"row_heading level0 row24\" >24</th>\n",
              "      <td id=\"T_e9bf3_row24_col0\" class=\"data row24 col0\" >USI</td>\n",
              "      <td id=\"T_e9bf3_row24_col1\" class=\"data row24 col1\" >e832</td>\n",
              "    </tr>\n",
              "  </tbody>\n",
              "</table>\n"
            ]
          },
          "metadata": {}
        }
      ]
    },
    {
      "cell_type": "code",
      "source": [
        "# ML Code snippet 9\n",
        "# Invoking ML algorithms\n",
        "compare_models()"
      ],
      "metadata": {
        "colab": {
          "base_uri": "https://localhost:8080/",
          "height": 681,
          "referenced_widgets": [
            "194edd7c17c6480f999aa5aa26731f3f",
            "a9447b52a1c64de19da74b1c74929a88",
            "5b8b474fa3ad42cebf04c22a339a65dd",
            "af1d8990666e44a5b970dd1750df858d",
            "8fc609766c96454f90095291b0a69d1a",
            "36b6e8c281ec4a6ea76c7ffe2caaeea8",
            "c371e4a7b9394ec78ae09c0bed9bf3ee",
            "42bbb2bde11d468dae7dbefe133bc2a1",
            "15e5ae1985854cf4b372a488c890e142",
            "4e931b2e6dde438d8e72967e63723258",
            "3534caf870234125bd6254d45e86e55b"
          ]
        },
        "id": "DadzoGtRYvnn",
        "outputId": "854a50c3-e5f3-49f8-aac0-3632974da264"
      },
      "execution_count": null,
      "outputs": [
        {
          "output_type": "display_data",
          "data": {
            "text/plain": [
              "<IPython.core.display.HTML object>"
            ],
            "text/html": []
          },
          "metadata": {}
        },
        {
          "output_type": "display_data",
          "data": {
            "text/plain": [
              "<pandas.io.formats.style.Styler at 0x7bb941acbf40>"
            ],
            "text/html": [
              "<style type=\"text/css\">\n",
              "#T_c4901 th {\n",
              "  text-align: left;\n",
              "}\n",
              "#T_c4901_row0_col0, #T_c4901_row0_col3, #T_c4901_row0_col5, #T_c4901_row1_col0, #T_c4901_row1_col1, #T_c4901_row1_col2, #T_c4901_row1_col3, #T_c4901_row1_col4, #T_c4901_row1_col5, #T_c4901_row1_col6, #T_c4901_row1_col7, #T_c4901_row2_col0, #T_c4901_row2_col1, #T_c4901_row2_col2, #T_c4901_row2_col3, #T_c4901_row2_col4, #T_c4901_row2_col5, #T_c4901_row2_col6, #T_c4901_row2_col7, #T_c4901_row3_col0, #T_c4901_row3_col1, #T_c4901_row3_col2, #T_c4901_row3_col3, #T_c4901_row3_col4, #T_c4901_row3_col5, #T_c4901_row3_col6, #T_c4901_row3_col7, #T_c4901_row4_col0, #T_c4901_row4_col1, #T_c4901_row4_col2, #T_c4901_row4_col3, #T_c4901_row4_col4, #T_c4901_row4_col5, #T_c4901_row4_col6, #T_c4901_row4_col7, #T_c4901_row5_col0, #T_c4901_row5_col1, #T_c4901_row5_col2, #T_c4901_row5_col3, #T_c4901_row5_col4, #T_c4901_row5_col5, #T_c4901_row5_col6, #T_c4901_row5_col7, #T_c4901_row6_col0, #T_c4901_row6_col1, #T_c4901_row6_col2, #T_c4901_row6_col3, #T_c4901_row6_col4, #T_c4901_row6_col5, #T_c4901_row6_col6, #T_c4901_row6_col7, #T_c4901_row7_col0, #T_c4901_row7_col1, #T_c4901_row7_col2, #T_c4901_row7_col3, #T_c4901_row7_col4, #T_c4901_row7_col5, #T_c4901_row7_col6, #T_c4901_row7_col7, #T_c4901_row8_col0, #T_c4901_row8_col1, #T_c4901_row8_col2, #T_c4901_row8_col3, #T_c4901_row8_col4, #T_c4901_row8_col5, #T_c4901_row8_col6, #T_c4901_row8_col7, #T_c4901_row9_col0, #T_c4901_row9_col1, #T_c4901_row9_col2, #T_c4901_row9_col3, #T_c4901_row9_col4, #T_c4901_row9_col5, #T_c4901_row9_col6, #T_c4901_row9_col7, #T_c4901_row10_col0, #T_c4901_row10_col1, #T_c4901_row10_col2, #T_c4901_row10_col3, #T_c4901_row10_col4, #T_c4901_row10_col5, #T_c4901_row10_col6, #T_c4901_row10_col7, #T_c4901_row11_col0, #T_c4901_row11_col1, #T_c4901_row11_col2, #T_c4901_row11_col3, #T_c4901_row11_col4, #T_c4901_row11_col5, #T_c4901_row11_col6, #T_c4901_row11_col7, #T_c4901_row12_col0, #T_c4901_row12_col1, #T_c4901_row12_col2, #T_c4901_row12_col3, #T_c4901_row12_col4, #T_c4901_row12_col5, #T_c4901_row12_col6, #T_c4901_row12_col7, #T_c4901_row13_col0, #T_c4901_row13_col1, #T_c4901_row13_col2, #T_c4901_row13_col3, #T_c4901_row13_col4, #T_c4901_row13_col6, #T_c4901_row13_col7, #T_c4901_row14_col0, #T_c4901_row14_col1, #T_c4901_row14_col2, #T_c4901_row14_col4, #T_c4901_row14_col5, #T_c4901_row14_col6, #T_c4901_row14_col7 {\n",
              "  text-align: left;\n",
              "}\n",
              "#T_c4901_row0_col1, #T_c4901_row0_col2, #T_c4901_row0_col4, #T_c4901_row0_col6, #T_c4901_row0_col7, #T_c4901_row13_col5, #T_c4901_row14_col3 {\n",
              "  text-align: left;\n",
              "  background-color: yellow;\n",
              "}\n",
              "#T_c4901_row0_col8, #T_c4901_row1_col8, #T_c4901_row2_col8, #T_c4901_row3_col8, #T_c4901_row4_col8, #T_c4901_row5_col8, #T_c4901_row6_col8, #T_c4901_row8_col8, #T_c4901_row9_col8, #T_c4901_row10_col8, #T_c4901_row11_col8, #T_c4901_row12_col8, #T_c4901_row13_col8, #T_c4901_row14_col8 {\n",
              "  text-align: left;\n",
              "  background-color: lightgrey;\n",
              "}\n",
              "#T_c4901_row7_col8 {\n",
              "  text-align: left;\n",
              "  background-color: yellow;\n",
              "  background-color: lightgrey;\n",
              "}\n",
              "</style>\n",
              "<table id=\"T_c4901\" class=\"dataframe\">\n",
              "  <thead>\n",
              "    <tr>\n",
              "      <th class=\"blank level0\" >&nbsp;</th>\n",
              "      <th id=\"T_c4901_level0_col0\" class=\"col_heading level0 col0\" >Model</th>\n",
              "      <th id=\"T_c4901_level0_col1\" class=\"col_heading level0 col1\" >Accuracy</th>\n",
              "      <th id=\"T_c4901_level0_col2\" class=\"col_heading level0 col2\" >AUC</th>\n",
              "      <th id=\"T_c4901_level0_col3\" class=\"col_heading level0 col3\" >Recall</th>\n",
              "      <th id=\"T_c4901_level0_col4\" class=\"col_heading level0 col4\" >Prec.</th>\n",
              "      <th id=\"T_c4901_level0_col5\" class=\"col_heading level0 col5\" >F1</th>\n",
              "      <th id=\"T_c4901_level0_col6\" class=\"col_heading level0 col6\" >Kappa</th>\n",
              "      <th id=\"T_c4901_level0_col7\" class=\"col_heading level0 col7\" >MCC</th>\n",
              "      <th id=\"T_c4901_level0_col8\" class=\"col_heading level0 col8\" >TT (Sec)</th>\n",
              "    </tr>\n",
              "  </thead>\n",
              "  <tbody>\n",
              "    <tr>\n",
              "      <th id=\"T_c4901_level0_row0\" class=\"row_heading level0 row0\" >rf</th>\n",
              "      <td id=\"T_c4901_row0_col0\" class=\"data row0 col0\" >Random Forest Classifier</td>\n",
              "      <td id=\"T_c4901_row0_col1\" class=\"data row0 col1\" >0.8384</td>\n",
              "      <td id=\"T_c4901_row0_col2\" class=\"data row0 col2\" >0.6847</td>\n",
              "      <td id=\"T_c4901_row0_col3\" class=\"data row0 col3\" >0.1716</td>\n",
              "      <td id=\"T_c4901_row0_col4\" class=\"data row0 col4\" >0.9348</td>\n",
              "      <td id=\"T_c4901_row0_col5\" class=\"data row0 col5\" >0.2892</td>\n",
              "      <td id=\"T_c4901_row0_col6\" class=\"data row0 col6\" >0.2447</td>\n",
              "      <td id=\"T_c4901_row0_col7\" class=\"data row0 col7\" >0.3597</td>\n",
              "      <td id=\"T_c4901_row0_col8\" class=\"data row0 col8\" >1.9940</td>\n",
              "    </tr>\n",
              "    <tr>\n",
              "      <th id=\"T_c4901_level0_row1\" class=\"row_heading level0 row1\" >et</th>\n",
              "      <td id=\"T_c4901_row1_col0\" class=\"data row1 col0\" >Extra Trees Classifier</td>\n",
              "      <td id=\"T_c4901_row1_col1\" class=\"data row1 col1\" >0.8369</td>\n",
              "      <td id=\"T_c4901_row1_col2\" class=\"data row1 col2\" >0.6706</td>\n",
              "      <td id=\"T_c4901_row1_col3\" class=\"data row1 col3\" >0.1711</td>\n",
              "      <td id=\"T_c4901_row1_col4\" class=\"data row1 col4\" >0.9014</td>\n",
              "      <td id=\"T_c4901_row1_col5\" class=\"data row1 col5\" >0.2864</td>\n",
              "      <td id=\"T_c4901_row1_col6\" class=\"data row1 col6\" >0.2403</td>\n",
              "      <td id=\"T_c4901_row1_col7\" class=\"data row1 col7\" >0.3489</td>\n",
              "      <td id=\"T_c4901_row1_col8\" class=\"data row1 col8\" >1.9530</td>\n",
              "    </tr>\n",
              "    <tr>\n",
              "      <th id=\"T_c4901_level0_row2\" class=\"row_heading level0 row2\" >lightgbm</th>\n",
              "      <td id=\"T_c4901_row2_col0\" class=\"data row2 col0\" >Light Gradient Boosting Machine</td>\n",
              "      <td id=\"T_c4901_row2_col1\" class=\"data row2 col1\" >0.8236</td>\n",
              "      <td id=\"T_c4901_row2_col2\" class=\"data row2 col2\" >0.6796</td>\n",
              "      <td id=\"T_c4901_row2_col3\" class=\"data row2 col3\" >0.1459</td>\n",
              "      <td id=\"T_c4901_row2_col4\" class=\"data row2 col4\" >0.6993</td>\n",
              "      <td id=\"T_c4901_row2_col5\" class=\"data row2 col5\" >0.2406</td>\n",
              "      <td id=\"T_c4901_row2_col6\" class=\"data row2 col6\" >0.1870</td>\n",
              "      <td id=\"T_c4901_row2_col7\" class=\"data row2 col7\" >0.2623</td>\n",
              "      <td id=\"T_c4901_row2_col8\" class=\"data row2 col8\" >1.2270</td>\n",
              "    </tr>\n",
              "    <tr>\n",
              "      <th id=\"T_c4901_level0_row3\" class=\"row_heading level0 row3\" >xgboost</th>\n",
              "      <td id=\"T_c4901_row3_col0\" class=\"data row3 col0\" >Extreme Gradient Boosting</td>\n",
              "      <td id=\"T_c4901_row3_col1\" class=\"data row3 col1\" >0.8181</td>\n",
              "      <td id=\"T_c4901_row3_col2\" class=\"data row3 col2\" >0.6707</td>\n",
              "      <td id=\"T_c4901_row3_col3\" class=\"data row3 col3\" >0.2140</td>\n",
              "      <td id=\"T_c4901_row3_col4\" class=\"data row3 col4\" >0.5747</td>\n",
              "      <td id=\"T_c4901_row3_col5\" class=\"data row3 col5\" >0.3108</td>\n",
              "      <td id=\"T_c4901_row3_col6\" class=\"data row3 col6\" >0.2307</td>\n",
              "      <td id=\"T_c4901_row3_col7\" class=\"data row3 col7\" >0.2687</td>\n",
              "      <td id=\"T_c4901_row3_col8\" class=\"data row3 col8\" >0.7970</td>\n",
              "    </tr>\n",
              "    <tr>\n",
              "      <th id=\"T_c4901_level0_row4\" class=\"row_heading level0 row4\" >gbc</th>\n",
              "      <td id=\"T_c4901_row4_col0\" class=\"data row4 col0\" >Gradient Boosting Classifier</td>\n",
              "      <td id=\"T_c4901_row4_col1\" class=\"data row4 col1\" >0.8130</td>\n",
              "      <td id=\"T_c4901_row4_col2\" class=\"data row4 col2\" >0.6791</td>\n",
              "      <td id=\"T_c4901_row4_col3\" class=\"data row4 col3\" >0.0601</td>\n",
              "      <td id=\"T_c4901_row4_col4\" class=\"data row4 col4\" >0.6622</td>\n",
              "      <td id=\"T_c4901_row4_col5\" class=\"data row4 col5\" >0.1095</td>\n",
              "      <td id=\"T_c4901_row4_col6\" class=\"data row4 col6\" >0.0800</td>\n",
              "      <td id=\"T_c4901_row4_col7\" class=\"data row4 col7\" >0.1570</td>\n",
              "      <td id=\"T_c4901_row4_col8\" class=\"data row4 col8\" >2.4880</td>\n",
              "    </tr>\n",
              "    <tr>\n",
              "      <th id=\"T_c4901_level0_row5\" class=\"row_heading level0 row5\" >dummy</th>\n",
              "      <td id=\"T_c4901_row5_col0\" class=\"data row5 col0\" >Dummy Classifier</td>\n",
              "      <td id=\"T_c4901_row5_col1\" class=\"data row5 col1\" >0.8076</td>\n",
              "      <td id=\"T_c4901_row5_col2\" class=\"data row5 col2\" >0.5000</td>\n",
              "      <td id=\"T_c4901_row5_col3\" class=\"data row5 col3\" >0.0000</td>\n",
              "      <td id=\"T_c4901_row5_col4\" class=\"data row5 col4\" >0.0000</td>\n",
              "      <td id=\"T_c4901_row5_col5\" class=\"data row5 col5\" >0.0000</td>\n",
              "      <td id=\"T_c4901_row5_col6\" class=\"data row5 col6\" >0.0000</td>\n",
              "      <td id=\"T_c4901_row5_col7\" class=\"data row5 col7\" >0.0000</td>\n",
              "      <td id=\"T_c4901_row5_col8\" class=\"data row5 col8\" >0.4010</td>\n",
              "    </tr>\n",
              "    <tr>\n",
              "      <th id=\"T_c4901_level0_row6\" class=\"row_heading level0 row6\" >lda</th>\n",
              "      <td id=\"T_c4901_row6_col0\" class=\"data row6 col0\" >Linear Discriminant Analysis</td>\n",
              "      <td id=\"T_c4901_row6_col1\" class=\"data row6 col1\" >0.8073</td>\n",
              "      <td id=\"T_c4901_row6_col2\" class=\"data row6 col2\" >0.6650</td>\n",
              "      <td id=\"T_c4901_row6_col3\" class=\"data row6 col3\" >0.0658</td>\n",
              "      <td id=\"T_c4901_row6_col4\" class=\"data row6 col4\" >0.4880</td>\n",
              "      <td id=\"T_c4901_row6_col5\" class=\"data row6 col5\" >0.1155</td>\n",
              "      <td id=\"T_c4901_row6_col6\" class=\"data row6 col6\" >0.0739</td>\n",
              "      <td id=\"T_c4901_row6_col7\" class=\"data row6 col7\" >0.1223</td>\n",
              "      <td id=\"T_c4901_row6_col8\" class=\"data row6 col8\" >0.5150</td>\n",
              "    </tr>\n",
              "    <tr>\n",
              "      <th id=\"T_c4901_level0_row7\" class=\"row_heading level0 row7\" >ridge</th>\n",
              "      <td id=\"T_c4901_row7_col0\" class=\"data row7 col0\" >Ridge Classifier</td>\n",
              "      <td id=\"T_c4901_row7_col1\" class=\"data row7 col1\" >0.8072</td>\n",
              "      <td id=\"T_c4901_row7_col2\" class=\"data row7 col2\" >0.0000</td>\n",
              "      <td id=\"T_c4901_row7_col3\" class=\"data row7 col3\" >0.0217</td>\n",
              "      <td id=\"T_c4901_row7_col4\" class=\"data row7 col4\" >0.4979</td>\n",
              "      <td id=\"T_c4901_row7_col5\" class=\"data row7 col5\" >0.0414</td>\n",
              "      <td id=\"T_c4901_row7_col6\" class=\"data row7 col6\" >0.0251</td>\n",
              "      <td id=\"T_c4901_row7_col7\" class=\"data row7 col7\" >0.0691</td>\n",
              "      <td id=\"T_c4901_row7_col8\" class=\"data row7 col8\" >0.3850</td>\n",
              "    </tr>\n",
              "    <tr>\n",
              "      <th id=\"T_c4901_level0_row8\" class=\"row_heading level0 row8\" >ada</th>\n",
              "      <td id=\"T_c4901_row8_col0\" class=\"data row8 col0\" >Ada Boost Classifier</td>\n",
              "      <td id=\"T_c4901_row8_col1\" class=\"data row8 col1\" >0.8067</td>\n",
              "      <td id=\"T_c4901_row8_col2\" class=\"data row8 col2\" >0.6549</td>\n",
              "      <td id=\"T_c4901_row8_col3\" class=\"data row8 col3\" >0.0509</td>\n",
              "      <td id=\"T_c4901_row8_col4\" class=\"data row8 col4\" >0.4824</td>\n",
              "      <td id=\"T_c4901_row8_col5\" class=\"data row8 col5\" >0.0913</td>\n",
              "      <td id=\"T_c4901_row8_col6\" class=\"data row8 col6\" >0.0569</td>\n",
              "      <td id=\"T_c4901_row8_col7\" class=\"data row8 col7\" >0.1043</td>\n",
              "      <td id=\"T_c4901_row8_col8\" class=\"data row8 col8\" >0.9590</td>\n",
              "    </tr>\n",
              "    <tr>\n",
              "      <th id=\"T_c4901_level0_row9\" class=\"row_heading level0 row9\" >lr</th>\n",
              "      <td id=\"T_c4901_row9_col0\" class=\"data row9 col0\" >Logistic Regression</td>\n",
              "      <td id=\"T_c4901_row9_col1\" class=\"data row9 col1\" >0.8056</td>\n",
              "      <td id=\"T_c4901_row9_col2\" class=\"data row9 col2\" >0.6499</td>\n",
              "      <td id=\"T_c4901_row9_col3\" class=\"data row9 col3\" >0.0275</td>\n",
              "      <td id=\"T_c4901_row9_col4\" class=\"data row9 col4\" >0.4281</td>\n",
              "      <td id=\"T_c4901_row9_col5\" class=\"data row9 col5\" >0.0514</td>\n",
              "      <td id=\"T_c4901_row9_col6\" class=\"data row9 col6\" >0.0286</td>\n",
              "      <td id=\"T_c4901_row9_col7\" class=\"data row9 col7\" >0.0659</td>\n",
              "      <td id=\"T_c4901_row9_col8\" class=\"data row9 col8\" >1.4910</td>\n",
              "    </tr>\n",
              "    <tr>\n",
              "      <th id=\"T_c4901_level0_row10\" class=\"row_heading level0 row10\" >knn</th>\n",
              "      <td id=\"T_c4901_row10_col0\" class=\"data row10 col0\" >K Neighbors Classifier</td>\n",
              "      <td id=\"T_c4901_row10_col1\" class=\"data row10 col1\" >0.7843</td>\n",
              "      <td id=\"T_c4901_row10_col2\" class=\"data row10 col2\" >0.5901</td>\n",
              "      <td id=\"T_c4901_row10_col3\" class=\"data row10 col3\" >0.1573</td>\n",
              "      <td id=\"T_c4901_row10_col4\" class=\"data row10 col4\" >0.3631</td>\n",
              "      <td id=\"T_c4901_row10_col5\" class=\"data row10 col5\" >0.2192</td>\n",
              "      <td id=\"T_c4901_row10_col6\" class=\"data row10 col6\" >0.1160</td>\n",
              "      <td id=\"T_c4901_row10_col7\" class=\"data row10 col7\" >0.1300</td>\n",
              "      <td id=\"T_c4901_row10_col8\" class=\"data row10 col8\" >0.7410</td>\n",
              "    </tr>\n",
              "    <tr>\n",
              "      <th id=\"T_c4901_level0_row11\" class=\"row_heading level0 row11\" >nb</th>\n",
              "      <td id=\"T_c4901_row11_col0\" class=\"data row11 col0\" >Naive Bayes</td>\n",
              "      <td id=\"T_c4901_row11_col1\" class=\"data row11 col1\" >0.7586</td>\n",
              "      <td id=\"T_c4901_row11_col2\" class=\"data row11 col2\" >0.6498</td>\n",
              "      <td id=\"T_c4901_row11_col3\" class=\"data row11 col3\" >0.2809</td>\n",
              "      <td id=\"T_c4901_row11_col4\" class=\"data row11 col4\" >0.3434</td>\n",
              "      <td id=\"T_c4901_row11_col5\" class=\"data row11 col5\" >0.3081</td>\n",
              "      <td id=\"T_c4901_row11_col6\" class=\"data row11 col6\" >0.1642</td>\n",
              "      <td id=\"T_c4901_row11_col7\" class=\"data row11 col7\" >0.1657</td>\n",
              "      <td id=\"T_c4901_row11_col8\" class=\"data row11 col8\" >0.4800</td>\n",
              "    </tr>\n",
              "    <tr>\n",
              "      <th id=\"T_c4901_level0_row12\" class=\"row_heading level0 row12\" >svm</th>\n",
              "      <td id=\"T_c4901_row12_col0\" class=\"data row12 col0\" >SVM - Linear Kernel</td>\n",
              "      <td id=\"T_c4901_row12_col1\" class=\"data row12 col1\" >0.7460</td>\n",
              "      <td id=\"T_c4901_row12_col2\" class=\"data row12 col2\" >0.0000</td>\n",
              "      <td id=\"T_c4901_row12_col3\" class=\"data row12 col3\" >0.1000</td>\n",
              "      <td id=\"T_c4901_row12_col4\" class=\"data row12 col4\" >0.0193</td>\n",
              "      <td id=\"T_c4901_row12_col5\" class=\"data row12 col5\" >0.0323</td>\n",
              "      <td id=\"T_c4901_row12_col6\" class=\"data row12 col6\" >-0.0004</td>\n",
              "      <td id=\"T_c4901_row12_col7\" class=\"data row12 col7\" >-0.0007</td>\n",
              "      <td id=\"T_c4901_row12_col8\" class=\"data row12 col8\" >0.4890</td>\n",
              "    </tr>\n",
              "    <tr>\n",
              "      <th id=\"T_c4901_level0_row13\" class=\"row_heading level0 row13\" >dt</th>\n",
              "      <td id=\"T_c4901_row13_col0\" class=\"data row13 col0\" >Decision Tree Classifier</td>\n",
              "      <td id=\"T_c4901_row13_col1\" class=\"data row13 col1\" >0.7327</td>\n",
              "      <td id=\"T_c4901_row13_col2\" class=\"data row13 col2\" >0.5913</td>\n",
              "      <td id=\"T_c4901_row13_col3\" class=\"data row13 col3\" >0.3616</td>\n",
              "      <td id=\"T_c4901_row13_col4\" class=\"data row13 col4\" >0.3244</td>\n",
              "      <td id=\"T_c4901_row13_col5\" class=\"data row13 col5\" >0.3417</td>\n",
              "      <td id=\"T_c4901_row13_col6\" class=\"data row13 col6\" >0.1747</td>\n",
              "      <td id=\"T_c4901_row13_col7\" class=\"data row13 col7\" >0.1752</td>\n",
              "      <td id=\"T_c4901_row13_col8\" class=\"data row13 col8\" >0.9450</td>\n",
              "    </tr>\n",
              "    <tr>\n",
              "      <th id=\"T_c4901_level0_row14\" class=\"row_heading level0 row14\" >qda</th>\n",
              "      <td id=\"T_c4901_row14_col0\" class=\"data row14 col0\" >Quadratic Discriminant Analysis</td>\n",
              "      <td id=\"T_c4901_row14_col1\" class=\"data row14 col1\" >0.3198</td>\n",
              "      <td id=\"T_c4901_row14_col2\" class=\"data row14 col2\" >0.5067</td>\n",
              "      <td id=\"T_c4901_row14_col3\" class=\"data row14 col3\" >0.8149</td>\n",
              "      <td id=\"T_c4901_row14_col4\" class=\"data row14 col4\" >0.1971</td>\n",
              "      <td id=\"T_c4901_row14_col5\" class=\"data row14 col5\" >0.3119</td>\n",
              "      <td id=\"T_c4901_row14_col6\" class=\"data row14 col6\" >0.0096</td>\n",
              "      <td id=\"T_c4901_row14_col7\" class=\"data row14 col7\" >0.0091</td>\n",
              "      <td id=\"T_c4901_row14_col8\" class=\"data row14 col8\" >0.5840</td>\n",
              "    </tr>\n",
              "  </tbody>\n",
              "</table>\n"
            ]
          },
          "metadata": {}
        },
        {
          "output_type": "display_data",
          "data": {
            "text/plain": [
              "Processing:   0%|          | 0/65 [00:00<?, ?it/s]"
            ],
            "application/vnd.jupyter.widget-view+json": {
              "version_major": 2,
              "version_minor": 0,
              "model_id": "194edd7c17c6480f999aa5aa26731f3f"
            }
          },
          "metadata": {
            "application/vnd.jupyter.widget-view+json": {
              "colab": {
                "custom_widget_manager": {
                  "url": "https://ssl.gstatic.com/colaboratory-static/widgets/colab-cdn-widget-manager/b3e629b1971e1542/manager.min.js"
                }
              }
            }
          }
        },
        {
          "output_type": "display_data",
          "data": {
            "text/plain": [
              "<IPython.core.display.HTML object>"
            ],
            "text/html": []
          },
          "metadata": {}
        },
        {
          "output_type": "execute_result",
          "data": {
            "text/plain": [
              "RandomForestClassifier(bootstrap=True, ccp_alpha=0.0, class_weight=None,\n",
              "                       criterion='gini', max_depth=None, max_features='sqrt',\n",
              "                       max_leaf_nodes=None, max_samples=None,\n",
              "                       min_impurity_decrease=0.0, min_samples_leaf=1,\n",
              "                       min_samples_split=2, min_weight_fraction_leaf=0.0,\n",
              "                       n_estimators=100, n_jobs=-1, oob_score=False,\n",
              "                       random_state=6597, verbose=0, warm_start=False)"
            ],
            "text/html": [
              "<style>#sk-container-id-1 {color: black;background-color: white;}#sk-container-id-1 pre{padding: 0;}#sk-container-id-1 div.sk-toggleable {background-color: white;}#sk-container-id-1 label.sk-toggleable__label {cursor: pointer;display: block;width: 100%;margin-bottom: 0;padding: 0.3em;box-sizing: border-box;text-align: center;}#sk-container-id-1 label.sk-toggleable__label-arrow:before {content: \"▸\";float: left;margin-right: 0.25em;color: #696969;}#sk-container-id-1 label.sk-toggleable__label-arrow:hover:before {color: black;}#sk-container-id-1 div.sk-estimator:hover label.sk-toggleable__label-arrow:before {color: black;}#sk-container-id-1 div.sk-toggleable__content {max-height: 0;max-width: 0;overflow: hidden;text-align: left;background-color: #f0f8ff;}#sk-container-id-1 div.sk-toggleable__content pre {margin: 0.2em;color: black;border-radius: 0.25em;background-color: #f0f8ff;}#sk-container-id-1 input.sk-toggleable__control:checked~div.sk-toggleable__content {max-height: 200px;max-width: 100%;overflow: auto;}#sk-container-id-1 input.sk-toggleable__control:checked~label.sk-toggleable__label-arrow:before {content: \"▾\";}#sk-container-id-1 div.sk-estimator input.sk-toggleable__control:checked~label.sk-toggleable__label {background-color: #d4ebff;}#sk-container-id-1 div.sk-label input.sk-toggleable__control:checked~label.sk-toggleable__label {background-color: #d4ebff;}#sk-container-id-1 input.sk-hidden--visually {border: 0;clip: rect(1px 1px 1px 1px);clip: rect(1px, 1px, 1px, 1px);height: 1px;margin: -1px;overflow: hidden;padding: 0;position: absolute;width: 1px;}#sk-container-id-1 div.sk-estimator {font-family: monospace;background-color: #f0f8ff;border: 1px dotted black;border-radius: 0.25em;box-sizing: border-box;margin-bottom: 0.5em;}#sk-container-id-1 div.sk-estimator:hover {background-color: #d4ebff;}#sk-container-id-1 div.sk-parallel-item::after {content: \"\";width: 100%;border-bottom: 1px solid gray;flex-grow: 1;}#sk-container-id-1 div.sk-label:hover label.sk-toggleable__label {background-color: #d4ebff;}#sk-container-id-1 div.sk-serial::before {content: \"\";position: absolute;border-left: 1px solid gray;box-sizing: border-box;top: 0;bottom: 0;left: 50%;z-index: 0;}#sk-container-id-1 div.sk-serial {display: flex;flex-direction: column;align-items: center;background-color: white;padding-right: 0.2em;padding-left: 0.2em;position: relative;}#sk-container-id-1 div.sk-item {position: relative;z-index: 1;}#sk-container-id-1 div.sk-parallel {display: flex;align-items: stretch;justify-content: center;background-color: white;position: relative;}#sk-container-id-1 div.sk-item::before, #sk-container-id-1 div.sk-parallel-item::before {content: \"\";position: absolute;border-left: 1px solid gray;box-sizing: border-box;top: 0;bottom: 0;left: 50%;z-index: -1;}#sk-container-id-1 div.sk-parallel-item {display: flex;flex-direction: column;z-index: 1;position: relative;background-color: white;}#sk-container-id-1 div.sk-parallel-item:first-child::after {align-self: flex-end;width: 50%;}#sk-container-id-1 div.sk-parallel-item:last-child::after {align-self: flex-start;width: 50%;}#sk-container-id-1 div.sk-parallel-item:only-child::after {width: 0;}#sk-container-id-1 div.sk-dashed-wrapped {border: 1px dashed gray;margin: 0 0.4em 0.5em 0.4em;box-sizing: border-box;padding-bottom: 0.4em;background-color: white;}#sk-container-id-1 div.sk-label label {font-family: monospace;font-weight: bold;display: inline-block;line-height: 1.2em;}#sk-container-id-1 div.sk-label-container {text-align: center;}#sk-container-id-1 div.sk-container {/* jupyter's `normalize.less` sets `[hidden] { display: none; }` but bootstrap.min.css set `[hidden] { display: none !important; }` so we also need the `!important` here to be able to override the default hidden behavior on the sphinx rendered scikit-learn.org. See: https://github.com/scikit-learn/scikit-learn/issues/21755 */display: inline-block !important;position: relative;}#sk-container-id-1 div.sk-text-repr-fallback {display: none;}</style><div id=\"sk-container-id-1\" class=\"sk-top-container\"><div class=\"sk-text-repr-fallback\"><pre>RandomForestClassifier(bootstrap=True, ccp_alpha=0.0, class_weight=None,\n",
              "                       criterion=&#x27;gini&#x27;, max_depth=None, max_features=&#x27;sqrt&#x27;,\n",
              "                       max_leaf_nodes=None, max_samples=None,\n",
              "                       min_impurity_decrease=0.0, min_samples_leaf=1,\n",
              "                       min_samples_split=2, min_weight_fraction_leaf=0.0,\n",
              "                       n_estimators=100, n_jobs=-1, oob_score=False,\n",
              "                       random_state=6597, verbose=0, warm_start=False)</pre><b>In a Jupyter environment, please rerun this cell to show the HTML representation or trust the notebook. <br />On GitHub, the HTML representation is unable to render, please try loading this page with nbviewer.org.</b></div><div class=\"sk-container\" hidden><div class=\"sk-item\"><div class=\"sk-estimator sk-toggleable\"><input class=\"sk-toggleable__control sk-hidden--visually\" id=\"sk-estimator-id-1\" type=\"checkbox\" checked><label for=\"sk-estimator-id-1\" class=\"sk-toggleable__label sk-toggleable__label-arrow\">RandomForestClassifier</label><div class=\"sk-toggleable__content\"><pre>RandomForestClassifier(bootstrap=True, ccp_alpha=0.0, class_weight=None,\n",
              "                       criterion=&#x27;gini&#x27;, max_depth=None, max_features=&#x27;sqrt&#x27;,\n",
              "                       max_leaf_nodes=None, max_samples=None,\n",
              "                       min_impurity_decrease=0.0, min_samples_leaf=1,\n",
              "                       min_samples_split=2, min_weight_fraction_leaf=0.0,\n",
              "                       n_estimators=100, n_jobs=-1, oob_score=False,\n",
              "                       random_state=6597, verbose=0, warm_start=False)</pre></div></div></div></div></div>"
            ]
          },
          "metadata": {},
          "execution_count": 12
        }
      ]
    }
  ]
}